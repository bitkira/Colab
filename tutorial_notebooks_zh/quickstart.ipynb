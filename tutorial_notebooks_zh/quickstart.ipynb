{
 "cells": [
  {
   "cell_type": "markdown",
   "id": "400b083a",
   "metadata": {},
   "source": [
    "# EvoAgentX 快速开始指南\n",
    "\n",
    "本快速开始指南将引导你完成使用 EvoAgentX 的基础步骤。在本教程中，你将学习如何：\n",
    "1. 配置用于访问 LLM 的 API 密钥  \n",
    "2. 自动创建并执行工作流  \n",
    "\n",
    "## 安装"
   ]
  },
  {
   "cell_type": "code",
   "execution_count": null,
   "id": "44ee039e",
   "metadata": {},
   "outputs": [],
   "source": [
    "pip install git+https://github.com/EvoAgentX/EvoAgentX.git"
   ]
  },
  {
   "cell_type": "markdown",
   "id": "5eab7525",
   "metadata": {},
   "source": [
    "请参阅 [安装指南](./installation.md) 获取更多详细信息。\n",
    "\n",
    "## API 密钥 和 LLM 设置\n",
    "\n",
    "要在 EvoAgentX 中执行工作流，首先需要配置用于访问大模型（LLM）的 API 密钥。推荐以下两种方式：\n",
    "\n",
    "### 方法一：在终端设置环境变量\n",
    "\n",
    "此方法直接在系统环境中设置 API 密钥。\n",
    "\n",
    "对于 Linux/macOS："
   ]
  },
  {
   "cell_type": "code",
   "execution_count": null,
   "id": "6903a765",
   "metadata": {},
   "outputs": [],
   "source": [
    "export OPENAI_API_KEY=<你的-openai-api-key>"
   ]
  },
  {
   "cell_type": "markdown",
   "id": "f7f37d86",
   "metadata": {},
   "source": [
    "\n",
    "对于 Windows 命令提示符："
   ]
  },
  {
   "cell_type": "code",
   "execution_count": null,
   "id": "aa02d2b2",
   "metadata": {},
   "outputs": [],
   "source": [
    "set OPENAI_API_KEY=<你的-openai-api-key>"
   ]
  },
  {
   "cell_type": "markdown",
   "id": "90466632",
   "metadata": {},
   "source": [
    "\n",
    "对于 Windows PowerShell："
   ]
  },
  {
   "cell_type": "code",
   "execution_count": null,
   "id": "6c83ffa6",
   "metadata": {},
   "outputs": [],
   "source": [
    "$env:OPENAI_API_KEY=\"<你的-openai-api-key>\"  # 引号是必需的"
   ]
  },
  {
   "cell_type": "markdown",
   "id": "7fa4e388",
   "metadata": {},
   "source": [
    "\n",
    "设置完成后，可在 Python 中这样获取："
   ]
  },
  {
   "cell_type": "code",
   "execution_count": null,
   "id": "85aea177",
   "metadata": {},
   "outputs": [],
   "source": [
    "import os\n",
    "OPENAI_API_KEY = os.getenv(\"OPENAI_API_KEY\")"
   ]
  },
  {
   "cell_type": "markdown",
   "id": "457efbdf",
   "metadata": {},
   "source": [
    "\n",
    "### 方法二：使用 `.env` 文件\n",
    "\n",
    "也可以在项目根目录下创建 `.env` 文件来存储 API 密钥。\n",
    "\n",
    "文件内容示例："
   ]
  },
  {
   "cell_type": "code",
   "execution_count": null,
   "id": "3394011c",
   "metadata": {},
   "outputs": [],
   "source": [
    "OPENAI_API_KEY=<你的-openai-api-key>"
   ]
  },
  {
   "cell_type": "markdown",
   "id": "5549149c",
   "metadata": {},
   "source": [
    "\n",
    "然后在 Python 中使用 `python-dotenv` 加载："
   ]
  },
  {
   "cell_type": "code",
   "execution_count": null,
   "id": "2840c676",
   "metadata": {},
   "outputs": [],
   "source": [
    "from dotenv import load_dotenv \n",
    "import os \n",
    "\n",
    "load_dotenv()  # 从 .env 文件加载环境变量\n",
    "OPENAI_API_KEY = os.getenv(\"OPENAI_API_KEY\")"
   ]
  },
  {
   "cell_type": "markdown",
   "id": "0f6e9149",
   "metadata": {},
   "source": [
    "\n",
    "🔐 提示：切勿将 `.env` 文件提交到公共平台（如 GitHub），请将其添加到 `.gitignore`。\n",
    "\n",
    "### 在 EvoAgentX 中配置并使用 LLM\n",
    "\n",
    "配置好 API 密钥后，可按如下方式初始化并使用 LLM："
   ]
  },
  {
   "cell_type": "code",
   "execution_count": null,
   "id": "d636baf6",
   "metadata": {},
   "outputs": [],
   "source": [
    "from evoagentx.models import OpenAILLMConfig, OpenAILLM\n",
    "\n",
    "# 从环境加载 API 密钥\n",
    "OPENAI_API_KEY = os.getenv(\"OPENAI_API_KEY\")\n",
    "\n",
    "# 定义 LLM 配置\n",
    "openai_config = OpenAILLMConfig(\n",
    "    model=\"gpt-4o-mini\",       # 指定模型名称\n",
    "    openai_key=OPENAI_API_KEY, # 直接传入密钥\n",
    "    stream=True,               # 启用流式响应\n",
    "    output_response=True       # 打印响应到标准输出\n",
    ")\n",
    "\n",
    "# 初始化语言模型\n",
    "llm = OpenAILLM(config=openai_config)\n",
    "\n",
    "# 从 LLM 生成响应\n",
    "response = llm.generate(prompt=\"What is Agentic Workflow?\")"
   ]
  },
  {
   "cell_type": "markdown",
   "id": "a1cbc4f6",
   "metadata": {},
   "source": [
    "\n",
    "你可以在 [LLM 模块指南](./modules/llm.md) 中找到更多关于支持的 LLM 类型及其参数的详细信息。\n",
    "\n",
    "## 自动工作流生成与执行\n",
    "\n",
    "配置完成后，即可在 EvoAgentX 中自动生成并执行智能工作流。本节展示生成工作流、实例化代理并运行的核心步骤。\n",
    "\n",
    "首先，导入必要的模块：\n"
   ]
  },
  {
   "cell_type": "code",
   "execution_count": null,
   "id": "bc582426",
   "metadata": {},
   "outputs": [],
   "source": [
    "from evoagentx.workflow import WorkFlowGenerator, WorkFlowGraph, WorkFlow\n",
    "from evoagentx.agents import AgentManager"
   ]
  },
  {
   "cell_type": "markdown",
   "id": "4368f51d",
   "metadata": {},
   "source": [
    "\n",
    "### 第一步：生成工作流与任务图\n",
    "使用 `WorkFlowGenerator` 基于自然语言目标自动创建工作流："
   ]
  },
  {
   "cell_type": "code",
   "execution_count": null,
   "id": "cc170f01",
   "metadata": {},
   "outputs": [],
   "source": [
    "goal = \"Generate html code for the Tetris game that can be played in the browser.\"\n",
    "wf_generator = WorkFlowGenerator(llm=llm)\n",
    "workflow_graph: WorkFlowGraph = wf_generator.generate_workflow(goal=goal)"
   ]
  },
  {
   "cell_type": "markdown",
   "id": "3c8aba3a",
   "metadata": {},
   "source": [
    "`WorkFlowGraph` 是一个数据结构，用于存储整体工作流计划，包括任务节点及其关系，但尚未包含可执行的代理。\n",
    "\n",
    "可选：可视化或保存生成的工作流："
   ]
  },
  {
   "cell_type": "code",
   "execution_count": null,
   "id": "a6a260d3",
   "metadata": {},
   "outputs": [],
   "source": [
    "# 可视化工作流结构（可选）\n",
    "workflow_graph.display()\n",
    "\n",
    "# 将工作流保存为 JSON 文件（可选）\n",
    "workflow_graph.save_module(\"/path/to/save/workflow_demo.json\")"
   ]
  },
  {
   "cell_type": "markdown",
   "id": "6c21991e",
   "metadata": {},
   "source": [
    "我们提供了一个生成的工作流示例 [here](https://github.com/EvoAgentX/EvoAgentX/blob/main/examples/output/tetris_game/workflow_demo_4o_mini.json)。你可以重新加载保存的工作流："
   ]
  },
  {
   "cell_type": "code",
   "execution_count": null,
   "id": "a5115820",
   "metadata": {},
   "outputs": [],
   "source": [
    "workflow_graph = WorkFlowGraph.from_file(\"/path/to/save/workflow_demo.json\")"
   ]
  },
  {
   "cell_type": "markdown",
   "id": "9570d769",
   "metadata": {},
   "source": [
    "\n",
    "### 第二步：创建并管理执行代理\n",
    "\n",
    "使用 `AgentManager` 基于工作流图实例化并管理代理："
   ]
  },
  {
   "cell_type": "code",
   "execution_count": null,
   "id": "eced435c",
   "metadata": {},
   "outputs": [],
   "source": [
    "agent_manager = AgentManager()\n",
    "agent_manager.add_agents_from_workflow(workflow_graph, llm_config=openai_config)"
   ]
  },
  {
   "cell_type": "markdown",
   "id": "4df66a22",
   "metadata": {},
   "source": [
    "\n",
    "### 第三步：执行工作流\n",
    "代理准备就绪后，可以创建 `WorkFlow` 实例并运行："
   ]
  },
  {
   "cell_type": "code",
   "execution_count": null,
   "id": "f4b4de79",
   "metadata": {},
   "outputs": [],
   "source": [
    "workflow = WorkFlow(graph=workflow_graph, agent_manager=agent_manager, llm=llm)\n",
    "output = workflow.execute()\n",
    "print(output)"
   ]
  },
  {
   "cell_type": "markdown",
   "id": "6518c104",
   "metadata": {},
   "source": [
    "\n",
    "更多示例请参见 [完整工作流演示](https://github.com/EvoAgentX/EvoAgentX/blob/main/examples/workflow_demo.py)。"
   ]
  }
 ],
 "metadata": {},
 "nbformat": 4,
 "nbformat_minor": 5
}
