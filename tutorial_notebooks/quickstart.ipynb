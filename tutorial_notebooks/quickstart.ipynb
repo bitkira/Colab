{
 "cells": [
  {
   "cell_type": "markdown",
   "id": "1d66b4a3",
   "metadata": {},
   "source": [
    "# EvoAgentX Quickstart Guide\n",
    "\n",
    "This quickstart guide will walk you through the essential steps to set up and start using EvoAgentX. In this tutorial, you'll learn how to:\n",
    "\n",
    "1. Configure your API keys to access LLMs \n",
    "2. Automatically create and execute workflows \n",
    "\n",
    "\n",
    "## Installation"
   ]
  },
  {
   "cell_type": "code",
   "execution_count": null,
   "id": "cf318c87",
   "metadata": {},
   "outputs": [],
   "source": [
    "pip install git+https://github.com/EvoAgentX/EvoAgentX.git"
   ]
  },
  {
   "cell_type": "markdown",
   "id": "bff8f9e9",
   "metadata": {},
   "source": [
    "Please refere to [Installation Guide](./installation.md) for more details about the installation. \n",
    "\n",
    "## API Key & LLM Setup \n",
    "\n",
    "The first step to execute a workflow in EvoAgentX is configuring your API keys to access LLMs. There are two recommended methods to configure your API keys:\n",
    "\n",
    "### Method 1: Set Environment Variables in the Terminal\n",
    "\n",
    "This method sets the API key directly in your system environment.\n",
    "\n",
    "For Linux/macOS: "
   ]
  },
  {
   "cell_type": "code",
   "execution_count": null,
   "id": "75d2f250",
   "metadata": {},
   "outputs": [],
   "source": [
    "export OPENAI_API_KEY=<your-openai-api-key>"
   ]
  },
  {
   "cell_type": "markdown",
   "id": "ceb3e853",
   "metadata": {},
   "source": [
    "\n",
    "For Windows Command Prompt: "
   ]
  },
  {
   "cell_type": "code",
   "execution_count": null,
   "id": "2cd2d9e9",
   "metadata": {},
   "outputs": [],
   "source": [
    "set OPENAI_API_KEY=<your-openai-api-key>"
   ]
  },
  {
   "cell_type": "markdown",
   "id": "70a56751",
   "metadata": {},
   "source": [
    "\n",
    "For Windows PowerShell:"
   ]
  },
  {
   "cell_type": "code",
   "execution_count": null,
   "id": "9d5b946e",
   "metadata": {},
   "outputs": [],
   "source": [
    "$env:OPENAI_API_KEY=\"<your-openai-api-key>\" # \" is required "
   ]
  },
  {
   "cell_type": "markdown",
   "id": "84f08019",
   "metadata": {},
   "source": [
    "\n",
    "Once set, you can access the key in your Python code with:"
   ]
  },
  {
   "cell_type": "code",
   "execution_count": null,
   "id": "7d486b57",
   "metadata": {},
   "outputs": [],
   "source": [
    "import os\n",
    "OPENAI_API_KEY = os.getenv(\"OPENAI_API_KEY\")"
   ]
  },
  {
   "cell_type": "markdown",
   "id": "5e4daa18",
   "metadata": {},
   "source": [
    "\n",
    "### Method 2: Use a `.env` File \n",
    "\n",
    "You can also store your API key in a `.env` file inside the root folder of your project.\n",
    "\n",
    "Create a file named `.env` with the following content:"
   ]
  },
  {
   "cell_type": "code",
   "execution_count": null,
   "id": "ad8cb735",
   "metadata": {},
   "outputs": [],
   "source": [
    "OPENAI_API_KEY=<your-openai-api-key>"
   ]
  },
  {
   "cell_type": "markdown",
   "id": "74f0507c",
   "metadata": {},
   "source": [
    "\n",
    "Then, in your Python code, you can load the environment settings using `python-dotenv`:"
   ]
  },
  {
   "cell_type": "code",
   "execution_count": null,
   "id": "47c5c640",
   "metadata": {},
   "outputs": [],
   "source": [
    "import os\n",
    "from dotenv import load_dotenv\n",
    "\n",
    "try:\n",
    "    from google.colab import userdata\n",
    "    OPENAI_API_KEY = userdata.get(\"OPENAI_API_KEY\")\n",
    "except ImportError:\n",
    "    OPENAI_API_KEY = None\n",
    "\n",
    "if not OPENAI_API_KEY:\n",
    "    load_dotenv()  # Loads environment variables from .env file\n",
    "    OPENAI_API_KEY = os.getenv(\"OPENAI_API_KEY\")"
   ]
  },
  {
   "cell_type": "markdown",
   "id": "076a2bca",
   "metadata": {},
   "source": [
    "🔐 Tip: Never commit your `.env` file to public platform (e.g., GitHub). Add it to `.gitignore`.\n",
    "\n",
    "### Configure and Use the LLM in EvoAgentX\n",
    "Once your API key is configured, you can initialize and use the LLM as follows:\n"
   ]
  },
  {
   "cell_type": "code",
   "execution_count": null,
   "id": "ac30e365",
   "metadata": {},
   "outputs": [],
   "source": [
    "from evoagentx.models import OpenAILLMConfig, OpenAILLM\n",
    "\n",
    "# Load the API key from environment\n",
    "OPENAI_API_KEY = os.getenv(\"OPENAI_API_KEY\")\n",
    "\n",
    "# Define LLM configuration\n",
    "openai_config = OpenAILLMConfig(\n",
    "    model=\"gpt-4o-mini\",       # Specify the model name\n",
    "    openai_key=OPENAI_API_KEY, # Pass the key directly\n",
    "    stream=True,               # Enable streaming response\n",
    "    output_response=True       # Print response to stdout\n",
    ")\n",
    "\n",
    "# Initialize the language model\n",
    "llm = OpenAILLM(config=openai_config)\n",
    "\n",
    "# Generate a response from the LLM\n",
    "response = llm.generate(prompt=\"What is Agentic Workflow?\")"
   ]
  },
  {
   "cell_type": "markdown",
   "id": "d03c4131",
   "metadata": {},
   "source": [
    "\n",
    "You can find more details about supported LLM types and their parameters in the [LLM module guide](./modules/llm.md).\n",
    "\n",
    "\n",
    "## Automatic WorkFlow Generation and Execution \n",
    "\n",
    "Once your API key and language model are configured, you can automatically generate and execute agentic workflows in EvoAgentX. This section walks you through the core steps: generating a workflow from a goal, instantiating agents, and running the workflow to get results.\n",
    "\n",
    "First, let's import the necessary modules:\n"
   ]
  },
  {
   "cell_type": "code",
   "execution_count": null,
   "id": "c93d2b1e",
   "metadata": {},
   "outputs": [],
   "source": [
    "from evoagentx.workflow import WorkFlowGenerator, WorkFlowGraph, WorkFlow\n",
    "from evoagentx.agents import AgentManager"
   ]
  },
  {
   "cell_type": "markdown",
   "id": "f3af80c0",
   "metadata": {},
   "source": [
    "\n",
    "### Step 1: Generate WorkFlow and Agents \n",
    "Use the `WorkFlowGenerator` to automatically create a workflow based on a natural language goal:"
   ]
  },
  {
   "cell_type": "code",
   "execution_count": null,
   "id": "c19ffee3",
   "metadata": {},
   "outputs": [],
   "source": [
    "goal = \"Generate html code for the Tetris game that can be played in the browser.\"\n",
    "wf_generator = WorkFlowGenerator(llm=llm)\n",
    "workflow_graph: WorkFlowGraph = wf_generator.generate_workflow(goal=goal)"
   ]
  },
  {
   "cell_type": "markdown",
   "id": "263fb8bf",
   "metadata": {},
   "source": [
    "`WorkFlowGraph` is a data structure that stores the overall workflow plan — including task nodes and their relationships — but does not yet include executable agents.\n",
    "\n",
    "You can optionally **visualize** or **save** the generated workflow:"
   ]
  },
  {
   "cell_type": "code",
   "execution_count": null,
   "id": "b4597286",
   "metadata": {},
   "outputs": [],
   "source": [
    "# Visualize the workflow structure (optional)\n",
    "workflow_graph.display()\n",
    "\n",
    "# Save the workflow to a JSON file (optional)\n",
    "workflow_graph.save_module(\"/path/to/save/workflow_demo.json\")"
   ]
  },
  {
   "cell_type": "markdown",
   "id": "c0ec801f",
   "metadata": {},
   "source": [
    "We provide an example generated workflow [here](https://github.com/EvoAgentX/EvoAgentX/blob/main/examples/output/tetris_game/workflow_demo_4o_mini.json). You can **reload** the saved workflow:"
   ]
  },
  {
   "cell_type": "code",
   "execution_count": null,
   "id": "b2cda749",
   "metadata": {},
   "outputs": [],
   "source": [
    "workflow_graph = WorkFlowGraph.from_file(\"/path/to/save/workflow_demo.json\")"
   ]
  },
  {
   "cell_type": "markdown",
   "id": "d05eddbd",
   "metadata": {},
   "source": [
    "\n",
    "### Step 2: Create and Manage Executable Agents \n",
    "\n",
    "Use `AgentManager` to instantiate and manage agents based on the workflow graph:"
   ]
  },
  {
   "cell_type": "code",
   "execution_count": null,
   "id": "440d8979",
   "metadata": {},
   "outputs": [],
   "source": [
    "agent_manager = AgentManager()\n",
    "agent_manager.add_agents_from_workflow(workflow_graph, llm_config=openai_config)"
   ]
  },
  {
   "cell_type": "markdown",
   "id": "5bcf7fcd",
   "metadata": {},
   "source": [
    "\n",
    "### Step 3: Execute the Workflow \n",
    "Once agents are ready, you can create a `WorkFlow` instance and run it:"
   ]
  },
  {
   "cell_type": "code",
   "execution_count": null,
   "id": "aa0e4921",
   "metadata": {},
   "outputs": [],
   "source": [
    "workflow = WorkFlow(graph=workflow_graph, agent_manager=agent_manager, llm=llm)\n",
    "output = workflow.execute()\n",
    "print(output)"
   ]
  },
  {
   "cell_type": "markdown",
   "id": "035e410d",
   "metadata": {},
   "source": [
    "\n",
    "For a complete working example, check out the [full workflow demo](https://github.com/EvoAgentX/EvoAgentX/blob/main/examples/workflow_demo.py).\n"
   ]
  }
 ],
 "metadata": {
  "language_info": {
   "name": "python"
  }
 },
 "nbformat": 4,
 "nbformat_minor": 5
}
